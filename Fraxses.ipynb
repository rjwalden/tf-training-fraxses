{
 "cells": [
  {
   "cell_type": "code",
   "execution_count": 3,
   "source": [
    "import requests\r\n",
    "import json\r\n",
    "import logging\r\n",
    "\r\n",
    "logging.basicConfig(level=logging.DEBUG)\r\n",
    "\r\n",
    "def usr_aut(gateway, username=\"\", password=\"\"):\r\n",
    "    try:\r\n",
    "        payload = {\r\n",
    "            \"token\": \"\",\r\n",
    "            \"action\": \"usr_aut\",\r\n",
    "            \"parameters\": {\r\n",
    "                \"user\": username,\r\n",
    "                \"password\": password\r\n",
    "                }\r\n",
    "            }\r\n",
    "    except Exception as e:\r\n",
    "        logging.error(e)\r\n",
    "        return None\r\n",
    "    auth = requests.post(url = gateway, data = json.dumps(payload))\r\n",
    "    if auth.status_code == 200:\r\n",
    "        try:\r\n",
    "            token = json.loads(auth.content)['result'][0]['serviceresult']['response']\r\n",
    "            return token\r\n",
    "        except Exception as e:\r\n",
    "            logging.error(str(e))\r\n",
    "            return None\r\n",
    "    else:\r\n",
    "        logging.error('Error connecting to {}, response code is '.format(gateway) + str(auth))\r\n",
    "        return None\r\n",
    "    \r\n",
    "def frx_tensorflow_train(token, data_object, model, organization):\r\n",
    "    # NOTE: Ignoring these columns:\r\n",
    "    # ['BillingAddress' 'BillingCity' 'BillingState' 'BillingCountry' 'BillingPostalCode' 'InvoiceLineId']\r\n",
    "    data = {\r\n",
    "            'model_type': model,\r\n",
    "            'organization': organization,\r\n",
    "            'dataset': data_object,\r\n",
    "            'index_schema': [\r\n",
    "                {\r\n",
    "                    'column_name': 'InvoiceDate',\r\n",
    "                    'dtype': 'datetime',\r\n",
    "                    'format': '' # alternatively can pass in the format for datetime\r\n",
    "                }\r\n",
    "            ],\r\n",
    "            'context_schema': [\r\n",
    "                {\r\n",
    "                    'column_name': 'InvoiceId',\r\n",
    "                    'dtype': 'int',\r\n",
    "                    'format': 'categorcial'\r\n",
    "                },\r\n",
    "                {\r\n",
    "                    'column_name': 'CustomerId',\r\n",
    "                    'dtype': 'int',\r\n",
    "                    'format': 'categorical'\r\n",
    "                },\r\n",
    "                {\r\n",
    "                    'column_name': 'TrackId',\r\n",
    "                    'dtype': 'int',\r\n",
    "                    'format': 'categorical'\r\n",
    "                }\r\n",
    "            ],\r\n",
    "            'target_schema': [\r\n",
    "                {\r\n",
    "                    'column_name': 'Total',\r\n",
    "                    'dtype': 'float',\r\n",
    "                    'format': 'numeric'\r\n",
    "                },\r\n",
    "                {\r\n",
    "                    'column_name': 'UnitPrice',\r\n",
    "                    'dtype': 'float',\r\n",
    "                    'format': 'numeric'\r\n",
    "                },\r\n",
    "                {\r\n",
    "                    'column_name': 'Quantity',\r\n",
    "                    'dtype': 'int',\r\n",
    "                    'format': 'numeric'\r\n",
    "                }\r\n",
    "            ],\r\n",
    "        }\r\n",
    "    data = json.dumps(data)\r\n",
    "    try:\r\n",
    "        payload = {\r\n",
    "            \"token\": token,\r\n",
    "            \"action\": \"tensorflow_train\",\r\n",
    "            \"parameters\": {\r\n",
    "                \"data\": data\r\n",
    "                }\r\n",
    "            }\r\n",
    "    except Exception as e:\r\n",
    "        logging.error(e)\r\n",
    "        return None\r\n",
    "    auth = requests.post(url = gateway, data = json.dumps(payload), timeout=300)\r\n",
    "    if auth.status_code == 200:\r\n",
    "        try:\r\n",
    "            token = json.loads(auth.content)['result'][0]['serviceresult']['response']\r\n",
    "            return token\r\n",
    "        except Exception as e:\r\n",
    "            logging.error(str(e))\r\n",
    "            return None\r\n",
    "    else:\r\n",
    "        logging.error('Error connecting to {}, response code is '.format(gateway) + str(auth))\r\n",
    "        return None\r\n",
    "gateway = 'https://fraxses-us.eastus.cloudapp.azure.com/api/gateway'\r\n",
    "\r\n",
    "token = usr_aut(gateway, username=\"ryan_walden\", password=\"ryan_walden\")['records'][0]['tok']\r\n",
    "print(token)\r\n",
    "\r\n",
    "resp = frx_tensorflow_train(\r\n",
    "    token, \r\n",
    "    data_object=\"odc_ap_demo_020\", \r\n",
    "    model=\"AnomalyDetector\", \r\n",
    "    organization='abc'\r\n",
    ")\r\n",
    "print(resp)"
   ],
   "outputs": [
    {
     "output_type": "stream",
     "name": "stderr",
     "text": [
      "DEBUG:urllib3.connectionpool:Starting new HTTPS connection (1): fraxses-us.eastus.cloudapp.azure.com:443\n",
      "DEBUG:urllib3.connectionpool:https://fraxses-us.eastus.cloudapp.azure.com:443 \"POST /api/gateway HTTP/1.1\" 200 493\n",
      "DEBUG:urllib3.connectionpool:Starting new HTTPS connection (1): fraxses-us.eastus.cloudapp.azure.com:443\n"
     ]
    },
    {
     "output_type": "stream",
     "name": "stdout",
     "text": [
      "FCC234D3-DD48-44E4-B81B-7A8D3073DB2A\n"
     ]
    },
    {
     "output_type": "stream",
     "name": "stderr",
     "text": [
      "DEBUG:urllib3.connectionpool:https://fraxses-us.eastus.cloudapp.azure.com:443 \"POST /api/gateway HTTP/1.1\" 200 315\n"
     ]
    },
    {
     "output_type": "stream",
     "name": "stdout",
     "text": [
      "Error tuning the model, No module named 'utils'\n"
     ]
    }
   ],
   "metadata": {}
  },
  {
   "cell_type": "markdown",
   "source": [
    "https://docs.ray.io/en/master/installation.html?highlight=docker#launch-ray-in-docker\n",
    "- name: dshm\n",
    "      emptyDir:\n",
    "        medium: Memory\n",
    "\n",
    "- name: dshm\n",
    "  mountPath: /dev/shm\n"
   ],
   "metadata": {}
  },
  {
   "cell_type": "code",
   "execution_count": null,
   "source": [],
   "outputs": [],
   "metadata": {}
  }
 ],
 "nbformat": 4,
 "nbformat_minor": 5,
 "metadata": {
  "kernelspec": {
   "name": "python3",
   "display_name": "Python 3.9.6 64-bit (windows store)"
  },
  "interpreter": {
   "hash": "66f04e65ac0cc0c15e02b21400a7ddfd7b4d0f816210636d18174726fe6f58c1"
  },
  "language_info": {
   "name": "python",
   "version": "3.9.6",
   "mimetype": "text/x-python",
   "codemirror_mode": {
    "name": "ipython",
    "version": 3
   },
   "pygments_lexer": "ipython3",
   "nbconvert_exporter": "python",
   "file_extension": ".py"
  }
 }
}